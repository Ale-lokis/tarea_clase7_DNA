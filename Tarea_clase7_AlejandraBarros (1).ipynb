{
 "cells": [
  {
   "cell_type": "markdown",
   "id": "14a254ef-cfba-4b97-ba48-e5c4386e67a6",
   "metadata": {},
   "source": [
    "# <center><h2> GBI6 - BIOINFORMÁTICA</h2></center>\n",
    "### <center><h1> Alejandra Barros</h1></center>\n",
    "\n",
    "\n",
    "<img src=\"https://www.ikiam.edu.ec/img/logo-ikiam-grey.png\" width=200 height=100/>"
   ]
  },
  {
   "cell_type": "markdown",
   "id": "fa7a7bdb-4bd6-4b34-ad43-2ddf07605f1a",
   "metadata": {},
   "source": [
    "## Tarea secuecnia de ADN"
   ]
  },
  {
   "cell_type": "markdown",
   "id": "82871079",
   "metadata": {},
   "source": [
    "### Dogma central de la biologia\n",
    "<img src=\"https://cdn.kastatic.org/ka-perseus-images/3e101241da8f1f47299852a49c8abf47dd3c151e.png\" width=700 height=500/>\n",
    "\n",
    "- El dogma central de la biología molecular afirma que el ADN contiene las instrucciones para crear proteínas, las que se  copian en el ARN.\n",
    "- Luego el ARN usa estas instrucciones para crear una proteína.\n",
    "- ADN → ARN → Proteína, o ADN a ARN a Proteína."
   ]
  },
  {
   "cell_type": "markdown",
   "id": "12feefce",
   "metadata": {},
   "source": [
    "### ADN\n",
    "El ADN, o ácido desoxirribonucleico, es el material que contiene la información hereditaria de casi todos los organismos. Gran parte de las células tienen el mismo ADN. La mayor parte del ADN se encuentra en el núcleo celular, pero también se puede encontrar una pequeña cantidad de ADN en las mitocondrias. La información en el ADN se almacena como un código compuesto por cuatro bases químicas, adenina (A), guanina (G), citosina (C) y timina (T)(Watson, 2018).\n",
    "\n",
    "### Secuencia complementaria\n",
    "ADN complementario es de doble cadena de ADN sintetizado a partir de un ARN de cadena sencilla de una reacción catalizada por la enzima transcriptasa inversa. cDNA se utiliza a menudo para clonar eucariotas genes en procariotas. Cuando los científicos quieren expresar una específica proteína en una célula que normalmente no exprese que la proteína (es decir, heterólogo de expresión), se transferirá el cDNA que codifica para la proteína a la célula receptora. cDNA también es producido naturalmente por retrovirus que al integrarse en el genoma del huésped, donde se crea un provirus. El término cDNA también se utiliza, por lo general en un bioinformática contexto, para referirse a la secuencia de un transcrito de ARNm, expresado como bases de ADN (GCAT) en lugar de bases de ARN (CGAU)(Checa, 2016).\n",
    "\n",
    "### Secuencia reverso complementaria\n",
    "Reverse Complement converts a DNA sequence into its reverse, complement, or reverse-complement counterpart. You may want to work with the reverse-complement of a sequence if it contains an ORF on the reverse strand.\n",
    "\n",
    "### mRNA\n",
    "El ARN mensajero (ARNm) es un tipo de ARN de cadena única que participa en la síntesis proteica. El ARNm se genera a partir de una plantilla de ADN durante el proceso de transcripción. La función del ARNm es transportar la información sobre las proteínas desde el ADN en el núcleo de la célula hasta el citoplasma de la célula (interior acuoso), donde la maquinaria productora de proteínas lee la secuencia del ARNm y traduce cada codón de tres bases en su aminoácido correspondiente en una cadena proteica en crecimiento.\n",
    "\n",
    "### Codon de incio\n",
    "El codón de inicio de la traducción o codón de inicio es una secuencia de ADN o ARN de tres nucleótidos (es decir, un codón) que indica a la maquinaria celular el lugar en el que comienza la traducción del ARN mensajero.\n",
    "\n",
    "### Codon de terminación\n",
    "En genética se denomina codón de terminación', codón de parada, codón sin sentido o codón stop a aquel codón que no determina en el código genético aminoácido alguno. Su función es acotar el mensaje cifrado por el ADN que dará lugar al ARN mensajero; de este modo, limita en el extremo 3' el marco abierto de lectura de los genes.\n",
    "\n",
    "### Marcos de lectura\n",
    "En biología molecular , un marco de lectura es una forma de dividir la secuencia de nucleótidos en una molécula de ácido nucleico ( ADN o ARN ) en un conjunto de tripletes consecutivos que no se superponen. Cuando estos tripletes equivalen a aminoácidos o señales de parada durante la traducción , se denominan codones .\n",
    "\n",
    "### Marco de lectura abierto\n",
    "Un marco de lectura abierto (ORF) es un marco de lectura que tiene el potencial de transcribirse en ARN y traducirse en proteína. Requiere una secuencia continua de ADN desde un codón de inicio , a través de una región posterior que generalmente tiene una longitud que es un múltiplo de 3 nucleótidos, hasta un codón de terminación en el mismo marco de lectura.\n",
    "\n",
    "### Múltiples marcos de lectura\n",
    "Los dos marcos de lectura utilizados por los genes mitocondriales humanos MT-ATP8 y MT-ATP6 . El uso de múltiples marcos de lectura conduce a la posibilidad de superposición de genes ; puede haber muchos de estos en genomas virales, procariotas y mitocondriales.\n",
    "\n"
   ]
  },
  {
   "cell_type": "code",
   "execution_count": 1,
   "id": "15a37ec0-6ecf-46e5-a5bb-59dbbd2ee777",
   "metadata": {},
   "outputs": [
    {
     "data": {
      "text/plain": [
       "'AAGGACCNGACATCCATCGCTGATGTCAATCCCCCGTGGATCGTAAGTCCGGGAGTAGGAGGAGGAAGGGTCGTCCCACAGTGCGAAGAGGCTTCTGACCTACTGACGGTACCTCCTCAGTGTCAGCCTATAGTCGGAGCTCGAGGGAGACTCGGTCCTCTGTAAAAGTCCGAATACCTTTGATGAAGGAGGTCTTCTATAGGACGGTAG'"
      ]
     },
     "execution_count": 1,
     "metadata": {},
     "output_type": "execute_result"
    }
   ],
   "source": [
    "seq2 = \"AAGGACCNGACATCCATCGCTGATGTCAATCCCCCGTGGATCGTAAGTCCGGGAGTAGGAGGAGGAAGGGTCGTCCCACAGTGCGAAGAGGCTTCTGACCTACTGACGGTACCTCCTCAGTGTCAGCCTATAGTCGGAGCTCGAGGGAGACTCGGTCCTCTGTAAAAGTCCGAATACCTTTGATGAAGGAGGTCTTCTATAGGACGGTAG\"\n",
    "seq2"
   ]
  },
  {
   "cell_type": "markdown",
   "id": "66a7f220-9935-41d8-97e0-3db30c58a9fe",
   "metadata": {},
   "source": [
    "### Secuencia complementario y comeplementario reverso"
   ]
  },
  {
   "cell_type": "code",
   "execution_count": 2,
   "id": "0a0a1cb6-7f20-4017-83ce-2cdc61ca283e",
   "metadata": {},
   "outputs": [
    {
     "name": "stdout",
     "output_type": "stream",
     "text": [
      "Porcentaje de GC es:  54.29 %\n"
     ]
    }
   ],
   "source": [
    "seq2 = \"AAGGACCNGACATCCATCGCTGATGTCAATCCCCCGTGGATCGTAAGTCCGGGAGTAGGAGGAGGAAGGGTCGTCCCACAGTGCGAAGAGGCTTCTGACCTACTGACGGTACCTCCTCAGTGTCAGCCTATAGTCGGAGCTCGAGGGAGACTCGGTCCTCTGTAAAAGTCCGAATACCTTTGATGAAGGAGGTCTTCTATAGGACGGTAG\"\n",
    "g = seq2.count('G')\n",
    "c = seq2.count('C')\n",
    "total = len(seq2)\n",
    "\n",
    "gc_percent = round(100*(g + c)/ total, 2)\n",
    "\n",
    "print(\"Porcentaje de GC es: \", gc_percent, \"%\")"
   ]
  },
  {
   "cell_type": "code",
   "execution_count": 4,
   "id": "190cc55f-271a-4fc7-a2c3-ccd32c4b8b7c",
   "metadata": {
    "tags": []
   },
   "outputs": [
    {
     "data": {
      "text/plain": [
       "'AACCAGGCAGAAGGAAGCGACAACAGAAAGGGGGCACCAAGCAAACAGGCCCACAACCACCACCAACCCAGCAGGGAGACACGCAACACCGAAGACAGGAAGACAGCCAAGGAGGAGACACAGACGGAAAACAGCCACGAGCACCCACAGAGCCAGGAGACAAAAACAGGCAAAAGGAAACAACAACCACCAGAAGAAAACCAGCCAAC'"
      ]
     },
     "execution_count": 4,
     "metadata": {},
     "output_type": "execute_result"
    }
   ],
   "source": [
    "seq2 = \"AAGGACCNGACATCCATCGCTGATGTCAATCCCCCGTGGATCGTAAGTCCGGGAGTAGGAGGAGGAAGGGTCGTCCCACAGTGCGAAGAGGCTTCTGACCTACTGACGGTACCTCCTCAGTGTCAGCCTATAGTCGGAGCTCGAGGGAGACTCGGTCCTCTGTAAAAGTCCGAATACCTTTGATGAAGGAGGTCTTCTATAGGACGGTAG\"\n",
    "seq3 = seq2.replace(\"A\", \"a\") #se remplaza las A por las a\n",
    "seq4 = seq3.replace(\"T\", \"a\") #se remplaza las T por las a\n",
    "seq5 = seq4.replace(\"C\", \"g\") #se remplaza las C por las g\n",
    "seq6 = seq5.replace(\"G\", \"c\") #se remplaza las G por las c\n",
    "seq7 = seq6.replace(\"N\", \"\")\n",
    "seq2_temp = seq7.upper() #para poner mayusculas todo\n",
    "seq2_temp\n"
   ]
  },
  {
   "cell_type": "code",
   "execution_count": 36,
   "id": "3713fc53-d3f5-4a98-8bce-1d602e272e57",
   "metadata": {},
   "outputs": [
    {
     "data": {
      "text/plain": [
       "'CTACCGTCCTATAGAAGACCTCCTTCATCAAAGGTATTCGGACTTTTACAGAGGACCGAGTCTCCCTCGAGCTCCGACTATAGGCTGACACTGAGGAGGTACCGTCAGTAGGTCAGAAGCCTCTTCGCACTGTGGGACGACCCTTCCTCCTCCTACTCCCGGACTTACGATCCACGGGGGATTGACATCAGCGATGGATGTCGGTCCTT'"
      ]
     },
     "execution_count": 36,
     "metadata": {},
     "output_type": "execute_result"
    }
   ],
   "source": [
    "cseq2 = seq2_temp #para nombrar la nueva variable en el completo de la secuencia\n",
    "rseq2 = cseq2[::-1] #para organizar la revers del complemento de la secuencia\n",
    "rseq2"
   ]
  },
  {
   "cell_type": "code",
   "execution_count": 37,
   "id": "a86a419f-f851-42d5-983c-0a52f9bede27",
   "metadata": {},
   "outputs": [
    {
     "name": "stdout",
     "output_type": "stream",
     "text": [
      "TTCCTGGCTGTAGGTAGCGACTACAGTTAGGGGGCACCTAGCATTCAGGCCCTCATCCTCCTCCTTCCCAGCAGGGTGTCACGCTTCTCCGAAGACTGGATGACTGCCATGGAGGAGTCACAGTCGGATATCAGCCTCGAGCTCCCTCTGAGCCAGGAGACATTTTCAGGCTTATGGAAACTACTTCCTCCAGAAGATATCCTGCCATC\n"
     ]
    }
   ],
   "source": [
    "print(cseq2) #El complemento de secuencia de la cadena"
   ]
  },
  {
   "cell_type": "code",
   "execution_count": 38,
   "id": "dc59364f-b718-4862-ba53-d4710a4ace21",
   "metadata": {},
   "outputs": [
    {
     "name": "stdout",
     "output_type": "stream",
     "text": [
      "CTACCGTCCTATAGAAGACCTCCTTCATCAAAGGTATTCGGACTTTTACAGAGGACCGAGTCTCCCTCGAGCTCCGACTATAGGCTGACACTGAGGAGGTACCGTCAGTAGGTCAGAAGCCTCTTCGCACTGTGGGACGACCCTTCCTCCTCCTACTCCCGGACTTACGATCCACGGGGGATTGACATCAGCGATGGATGTCGGTCCTT\n"
     ]
    }
   ],
   "source": [
    "print(rseq2) #Es el reverso de la cadena complemento"
   ]
  },
  {
   "cell_type": "markdown",
   "id": "7391aef7-5657-4304-bad4-5193b9a364cd",
   "metadata": {},
   "source": [
    "# Codon de inicio y codon de final"
   ]
  },
  {
   "cell_type": "code",
   "execution_count": 39,
   "id": "b804779d-a786-463d-b74b-20b4740ace09",
   "metadata": {},
   "outputs": [],
   "source": [
    "dna_show = seq2.replace(\"ATC\", \"Start\")\n",
    "dna_show = dna_show.replace(\"TAG\", \"End\")\n",
    "\n",
    "dna_show2 = cseq2.replace(\"ATC\", \"Start\")\n",
    "dna_show_cseq2 = dna_show2.replace(\"TAG\", \"End\")\n",
    "\n",
    "dna_show3 = rseq2.replace(\"ATC\", \"Start\")\n",
    "dna_show_rseq2 = dna_show3.replace(\"TAG\", \"End\")"
   ]
  },
  {
   "cell_type": "code",
   "execution_count": 40,
   "id": "d985989d-a0ab-49f7-91b4-6cba4b241d19",
   "metadata": {},
   "outputs": [
    {
     "name": "stdout",
     "output_type": "stream",
     "text": [
      "AAGGACCNGACStartCStartGCTGATGTCAStartCCCCGTGGStartGTAAGTCCGGGAGEndGAGGAGGAAGGGTCGTCCCACAGTGCGAAGAGGCTTCTGACCTACTGACGGTACCTCCTCAGTGTCAGCCTAEndTCGGAGCTCGAGGGAGACTCGGTCCTCTGTAAAAGTCCGAATACCTTTGATGAAGGAGGTCTTCTAEndGACGGEnd\n"
     ]
    }
   ],
   "source": [
    "print(dna_show) #Se cambiaron los ATC como inicio y el TAG como el stop o final en la secuencia 2"
   ]
  },
  {
   "cell_type": "code",
   "execution_count": 41,
   "id": "2d85783b-124e-4740-96a4-ac8bfb7d4bb4",
   "metadata": {},
   "outputs": [
    {
     "name": "stdout",
     "output_type": "stream",
     "text": [
      "TTCCTGGCTGTAGGTAGCGACTACAGTTAGGGGGCACCTAGCATTCAGGCCCTCStartCTCCTCCTTCCCAGCAGGGTGTCACGCTTCTCCGAAGACTGGATGACTGCCATGGAGGAGTCACAGTCGGATStartAGCCTCGAGCTCCCTCTGAGCCAGGAGACATTTTCAGGCTTATGGAAACTACTTCCTCCAGAAGATStartCTGCCStart\n"
     ]
    }
   ],
   "source": [
    "print(dna_show2) #Se cambiaron los ATC como inicio y el TAG como el stop o final en la cadena complemento"
   ]
  },
  {
   "cell_type": "code",
   "execution_count": 42,
   "id": "8d8f17d1-9472-4bca-9b05-f87b021ef0d7",
   "metadata": {},
   "outputs": [
    {
     "name": "stdout",
     "output_type": "stream",
     "text": [
      "CTACCGTCCTATAGAAGACCTCCTTCStartAAAGGTATTCGGACTTTTACAGAGGACCGAGTCTCCCTCGAGCTCCGACTATAGGCTGACACTGAGGAGGTACCGTCAGTAGGTCAGAAGCCTCTTCGCACTGTGGGACGACCCTTCCTCCTCCTACTCCCGGACTTACGStartCACGGGGGATTGACStartAGCGATGGATGTCGGTCCTT\n"
     ]
    }
   ],
   "source": [
    "print(dna_show3) #Se cambiaron los ATC como inicio y el TAG como el stop o final en la revers de la cadena complemento"
   ]
  },
  {
   "cell_type": "markdown",
   "id": "a4da2afc-ae88-4f7e-869f-ff73bfe3e6b7",
   "metadata": {},
   "source": [
    "# Secuencia de ARNm"
   ]
  },
  {
   "cell_type": "code",
   "execution_count": 9,
   "id": "e2303f75-07d7-4a58-88c9-61d6954e62bd",
   "metadata": {},
   "outputs": [
    {
     "name": "stdout",
     "output_type": "stream",
     "text": [
      "UUCCUGGCUGUAGGUAGCGACUACAGUUAGGGGGCACCUAGCAUUCAGGCCCUCAUCCUCCUCCUUCCCAGCAGGGUGUCACGCUUCUCCGAAGACUGGAUGACUGCCAUGGAGGAGUCACAGUCGGAUAUCAGCCUCGAGCUCCCUCUGAGCCAGGAGACAUUUUCAGGCUUAUGGAAACUACUUCCUCCAGAAGAUAUCCUGCCAUC\n"
     ]
    }
   ],
   "source": [
    "seq2 = \"AAGGACCNGACATCCATCGCTGATGTCAATCCCCCGTGGATCGTAAGTCCGGGAGTAGGAGGAGGAAGGGTCGTCCCACAGTGCGAAGAGGCTTCTGACCTACTGACGGTACCTCCTCAGTGTCAGCCTATAGTCGGAGCTCGAGGGAGACTCGGTCCTCTGTAAAAGTCCGAATACCTTTGATGAAGGAGGTCTTCTATAGGACGGTAG\"\n",
    "seq_1_ARN = seq2.replace(\"A\", \"u\") #se remplaza las A por las u por que es una cadena de ARN\n",
    "seq_2_ARN = seq_1_ARN.replace(\"T\", \"a\") #se remplaza las T por las a\n",
    "seq_3_ARN = seq_2_ARN.replace(\"C\", \"g\") #se remplaza las C por las g\n",
    "seq_4_ARN = seq_3_ARN.replace(\"G\", \"c\") #se remplaza las G por las c\n",
    "seq_5_ARN = seq_4_ARN.replace(\"N\", \"\")\n",
    "seq_ARNm = seq_5_ARN.upper() #para poner mayusculas todo\n",
    "print(seq_ARNm)"
   ]
  },
  {
   "cell_type": "code",
   "execution_count": 8,
   "id": "83d9c9e1-5832-4577-bb23-7b6745e8b4e1",
   "metadata": {},
   "outputs": [
    {
     "name": "stdout",
     "output_type": "stream",
     "text": [
      "UUCCUGGCUGEndGEndCGACUACAGUEndGGGGCACCEndCAUUCAGGCCCUCAUCCUCCUCCUUCCCAGCAGGGUGUCACGCUUCUCCGAAGACUGGStartACUGCCStartGAGGAGUCACAGUCGGAUAUCAGCCUCGAGCUCCCUCEndGCCAGGAGACAUUUUCAGGCUUStartGAAACUACUUCCUCCAGAAGAUAUCCUGCCAUC\n"
     ]
    }
   ],
   "source": [
    "ARNm_show0 = seq_ARNm.replace(\"AUG\", \"Start\") # inicio de la traduccion\n",
    "ARNm_show1 = ARNm_show0.replace(\"UAA\", \"End\") # Fin de la tradiccion\n",
    "ARNm_show2 = ARNm_show1.replace(\"UAG\", \"End\") # Fin de la tradiccion\n",
    "ARNm_show = ARNm_show2.replace(\"UGA\", \"End\") # Fin de la tradiccion\n",
    "print(ARNm_show)"
   ]
  },
  {
   "cell_type": "markdown",
   "id": "9ae28c00-5afe-488e-8c05-05358f79f363",
   "metadata": {},
   "source": [
    "### Cadena de ARNm del complementario del ADN "
   ]
  },
  {
   "cell_type": "code",
   "execution_count": 18,
   "id": "4ba836f2-192c-4e0b-9caa-cc8f5dbf4c8d",
   "metadata": {},
   "outputs": [
    {
     "name": "stdout",
     "output_type": "stream",
     "text": [
      "AAGGACCGACAUCCAUCGCUGAUGUCAAUCCCCCGUGGAUCGUAAGUCCGGGAGUAGGAGGAGGAAGGGUCGUCCCACAGUGCGAAGAGGCUUCUGACCUACUGACGGUACCUCCUCAGUGUCAGCCUAUAGUCGGAGCUCGAGGGAGACUCGGUCCUCUGUAAAAGUCCGAAUACCUUUGAUGAAGGAGGUCUUCUAUAGGACGGUAG\n"
     ]
    }
   ],
   "source": [
    "cseq2 = \"TTCCTGGCTGTAGGTAGCGACTACAGTTAGGGGGCACCTAGCATTCAGGCCCTCATCCTCCTCCTTCCCAGCAGGGTGTCACGCTTCTCCGAAGACTGGATGACTGCCATGGAGGAGTCACAGTCGGATATCAGCCTCGAGCTCCCTCTGAGCCAGGAGACATTTTCAGGCTTATGGAAACTACTTCCTCCAGAAGATATCCTGCCATC\"\n",
    "cseq_1_ARN = cseq2.replace(\"A\", \"u\") #se remplaza las A por las u por que es una cadena de ARN\n",
    "cseq_2_ARN = cseq_1_ARN.replace(\"T\", \"a\") #se remplaza las T por las a\n",
    "cseq_3_ARN = cseq_2_ARN.replace(\"C\", \"g\") #se remplaza las C por las g\n",
    "cseq_4_ARN = cseq_3_ARN.replace(\"G\", \"c\") #se remplaza las G por las c\n",
    "cseq_5_ARN = cseq_4_ARN.replace(\"N\", \"\")\n",
    "cseq_ARNm = cseq_5_ARN.upper() #para poner mayusculas todo\n",
    "print(cseq_ARNm)"
   ]
  },
  {
   "cell_type": "code",
   "execution_count": 19,
   "id": "921bb1ce-bf30-43b0-b0b4-1baf7da898a2",
   "metadata": {},
   "outputs": [
    {
     "name": "stdout",
     "output_type": "stream",
     "text": [
      "AAGGACCGACAUCCAUCGCUGStartUCAAUCCCCCGUGGAUCGEndGUCCGGGAGEndGAGGAGGAAGGGUCGUCCCACAGUGCGAAGAGGCUUCEndCCUACEndCGGUACCUCCUCAGUGUCAGCCUAEndUCGGAGCUCGAGGGAGACUCGGUCCUCUGEndAAGUCCGAAUACCUUUGStartAAGGAGGUCUUCUAEndGACGGEnd\n"
     ]
    }
   ],
   "source": [
    "cseq_ARNm0 = cseq_ARNm.replace(\"AUG\", \"Start\") # inicio de la tradiccion\n",
    "cseq_ARNm1 = cseq_ARNm0.replace(\"UAA\", \"End\") # Fin de la tradiccion\n",
    "cseq_ARNm2 = cseq_ARNm1.replace(\"UAG\", \"End\") # Fin de la tradiccion\n",
    "cseq_ARNm_show = cseq_ARNm2.replace(\"UGA\", \"End\") # Fin de la tradiccion\n",
    "print(cseq_ARNm_show)"
   ]
  },
  {
   "cell_type": "markdown",
   "id": "2332ff87-f487-4945-be90-b7ec33b0eecb",
   "metadata": {},
   "source": [
    "### Secuencia de ARNm del Reverso complementario "
   ]
  },
  {
   "cell_type": "code",
   "execution_count": 13,
   "id": "70d6cb41-be2d-49d9-9119-eee7923fa37f",
   "metadata": {},
   "outputs": [
    {
     "name": "stdout",
     "output_type": "stream",
     "text": [
      "GAUGGCAGGAUAUCUUCUGGAGGAAGUAGUUUCCAUAAGCCUGAAAAUGUCUCCUGGCUCAGAGGGAGCUCGAGGCUGAUAUCCGACUGUGACUCCUCCAUGGCAGUCAUCCAGUCUUCGGAGAAGCGUGACACCCUGCUGGGAAGGAGGAGGAUGAGGGCCUGAAUGCUAGGUGCCCCCUAACUGUAGUCGCUACCUACAGCCAGGAA\n"
     ]
    }
   ],
   "source": [
    "rseq2 = \"CTACCGTCCTATAGAAGACCTCCTTCATCAAAGGTATTCGGACTTTTACAGAGGACCGAGTCTCCCTCGAGCTCCGACTATAGGCTGACACTGAGGAGGTACCGTCAGTAGGTCAGAAGCCTCTTCGCACTGTGGGACGACCCTTCCTCCTCCTACTCCCGGACTTACGATCCACGGGGGATTGACATCAGCGATGGATGTCGGTCCTT\"\n",
    "rseq_1_ARN = rseq2.replace(\"A\", \"u\") #se remplaza las A por las u por que es una cadena de ARN\n",
    "rseq_2_ARN = rseq_1_ARN.replace(\"T\", \"a\") #se remplaza las T por las a\n",
    "rseq_3_ARN = rseq_2_ARN.replace(\"C\", \"g\") #se remplaza las C por las g\n",
    "rseq_4_ARN = rseq_3_ARN.replace(\"G\", \"c\") #se remplaza las G por las c\n",
    "rseq_5_ARN = rseq_4_ARN.replace(\"N\", \"\")\n",
    "rseq_ARNm = rseq_5_ARN.upper() #para poner mayusculas todo\n",
    "print(rseq_ARNm)"
   ]
  },
  {
   "cell_type": "code",
   "execution_count": 14,
   "id": "0810839a-8269-431a-afeb-91f3eed4b43c",
   "metadata": {},
   "outputs": [
    {
     "name": "stdout",
     "output_type": "stream",
     "text": [
      "GStartGCAGGAUAUCUUCUGGAGGAAGEndUUUCCAEndGCCEndAAStartUCUCCUGGCUCAGAGGGAGCUCGAGGCEndUAUCCGACUGEndCUCCUCCStartGCAGUCAUCCAGUCUUCGGAGAAGCGEndCACCCUGCUGGGAAGGAGGAGGStartAGGGCCEndStartCEndGUGCCCCCEndCUGEndUCGCUACCUACAGCCAGGAA\n"
     ]
    }
   ],
   "source": [
    "rseq_ARNm0 = rseq_ARNm.replace(\"AUG\", \"Start\") # inicio de la tradiccion\n",
    "rseq_ARNm1 = rseq_ARNm0.replace(\"UAA\", \"End\") # Fin de la tradiccion\n",
    "rseq_ARNm2 = rseq_ARNm1.replace(\"UAG\", \"End\") # Fin de la tradiccion\n",
    "rseq_ARNm_show = rseq_ARNm2.replace(\"UGA\", \"End\") # Fin de la tradiccion\n",
    "print(rseq_ARNm_show)"
   ]
  },
  {
   "cell_type": "markdown",
   "id": "e91fa08f-de69-459d-ab8e-21fd8ee73f44",
   "metadata": {},
   "source": [
    "# ARNm"
   ]
  },
  {
   "cell_type": "code",
   "execution_count": 21,
   "id": "68b57531-30f5-46df-b60c-bfcfc2928630",
   "metadata": {},
   "outputs": [
    {
     "name": "stdout",
     "output_type": "stream",
     "text": [
      "UUCCUGGCUGEndGEndCGACUACAGUEndGGGGCACCEndCAUUCAGGCCCUCAUCCUCCUCCUUCCCAGCAGGGUGUCACGCUUCUCCGAAGACUGGStartACUGCCStartGAGGAGUCACAGUCGGAUAUCAGCCUCGAGCUCCCUCEndGCCAGGAGACAUUUUCAGGCUUStartGAAACUACUUCCUCCAGAAGAUAUCCUGCCAUC\n"
     ]
    }
   ],
   "source": [
    "print(ARNm_show)"
   ]
  },
  {
   "cell_type": "code",
   "execution_count": 20,
   "id": "87a30290-9c14-4d94-9a87-9030b1e75d41",
   "metadata": {},
   "outputs": [
    {
     "name": "stdout",
     "output_type": "stream",
     "text": [
      "AAGGACCGACAUCCAUCGCUGStartUCAAUCCCCCGUGGAUCGEndGUCCGGGAGEndGAGGAGGAAGGGUCGUCCCACAGUGCGAAGAGGCUUCEndCCUACEndCGGUACCUCCUCAGUGUCAGCCUAEndUCGGAGCUCGAGGGAGACUCGGUCCUCUGEndAAGUCCGAAUACCUUUGStartAAGGAGGUCUUCUAEndGACGGEnd\n"
     ]
    }
   ],
   "source": [
    "print(cseq_ARNm_show)"
   ]
  },
  {
   "cell_type": "code",
   "execution_count": 22,
   "id": "f7d24022-aa49-471d-b3a4-c88fa11f4ecd",
   "metadata": {},
   "outputs": [
    {
     "name": "stdout",
     "output_type": "stream",
     "text": [
      "GStartGCAGGAUAUCUUCUGGAGGAAGEndUUUCCAEndGCCEndAAStartUCUCCUGGCUCAGAGGGAGCUCGAGGCEndUAUCCGACUGEndCUCCUCCStartGCAGUCAUCCAGUCUUCGGAGAAGCGEndCACCCUGCUGGGAAGGAGGAGGStartAGGGCCEndStartCEndGUGCCCCCEndCUGEndUCGCUACCUACAGCCAGGAA\n"
     ]
    }
   ],
   "source": [
    "print(rseq_ARNm_show)"
   ]
  },
  {
   "cell_type": "markdown",
   "id": "61fb954d-9683-4b1a-84e7-c918c6fc60ec",
   "metadata": {},
   "source": [
    "# Referencias\n",
    "- Watson, D. J. (2018). ADN. El secreto de la vida (1.a ed.). Penguin Random House Grupo Editorial. \n",
    "- Checa, A. (2016, 14 noviembre). ADNc. Conogasi. Recuperado 17 de junio de 2022, de https://conogasi.org/diccionario/adnc/ \n",
    "- ARN mensajero (ARNm) | NHGRI. (2022, 16 junio). Genome.gov. Recuperado 12 de junio de 2022, de https://www.genome.gov/es/genetics-glossary/ARN-mensajero \n",
    "- Rainey S, Repka J. \"Secuencia cuantitativa y análisis de marco de lectura abierto basado en sesgo de codón\" (PDF) . Sistémica, Cibernética e Informática . 4 (1): 65–72."
   ]
  },
  {
   "cell_type": "code",
   "execution_count": null,
   "id": "84beaa3d",
   "metadata": {},
   "outputs": [],
   "source": []
  }
 ],
 "metadata": {
  "kernelspec": {
   "display_name": "Python 3 (ipykernel)",
   "language": "python",
   "name": "python3"
  },
  "language_info": {
   "codemirror_mode": {
    "name": "ipython",
    "version": 3
   },
   "file_extension": ".py",
   "mimetype": "text/x-python",
   "name": "python",
   "nbconvert_exporter": "python",
   "pygments_lexer": "ipython3",
   "version": "3.9.12"
  }
 },
 "nbformat": 4,
 "nbformat_minor": 5
}
